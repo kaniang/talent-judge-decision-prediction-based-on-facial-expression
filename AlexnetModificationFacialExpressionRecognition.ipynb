{
  "nbformat": 4,
  "nbformat_minor": 0,
  "metadata": {
    "colab": {
      "provenance": [],
      "collapsed_sections": []
    },
    "kernelspec": {
      "name": "python3",
      "display_name": "Python 3"
    },
    "language_info": {
      "name": "python"
    },
    "accelerator": "GPU",
    "gpuClass": "standard"
  },
  "cells": [
    {
      "cell_type": "markdown",
      "source": [
        "dataset Facial Expression Recognition on Kaggel\n",
        "\n",
        "modification fer2013 dataset\n",
        "\"https://drive.google.com/file/d/1cebjM5HymQaQVycZCcC9LDryjlQA7-vF/view?usp=sharing\"\n"
      ],
      "metadata": {
        "id": "Cv7zxiXkiDmG"
      }
    },
    {
      "cell_type": "code",
      "execution_count": null,
      "metadata": {
        "colab": {
          "base_uri": "https://localhost:8080/"
        },
        "id": "AqxrXbaRDrHF",
        "outputId": "574076c4-7eda-456d-d4cd-60204fd49923"
      },
      "outputs": [
        {
          "output_type": "stream",
          "name": "stdout",
          "text": [
            "Mounted at /content/drive\n"
          ]
        }
      ],
      "source": [
        "from google.colab import drive\n",
        "drive.mount('/content/drive')"
      ]
    },
    {
      "cell_type": "code",
      "source": [
        "import zipfile,os\n",
        "local_zip = '/content/drive/MyDrive/dataset/fer2013_5exp_modif.zip'\n",
        "zip_ref = zipfile.ZipFile(local_zip, 'r')\n",
        "zip_ref.extractall('/content')\n",
        "zip_ref.close()"
      ],
      "metadata": {
        "id": "m-aqhcj3Drab"
      },
      "execution_count": null,
      "outputs": []
    },
    {
      "cell_type": "code",
      "source": [
        "import numpy as np\n",
        "import pandas as pd\n",
        "import tensorflow\n",
        "import seaborn as sns\n",
        "from matplotlib import pyplot\n",
        "from sklearn.metrics import classification_report, confusion_matrix\n",
        "from keras.models import Sequential\n",
        "from keras.layers import Flatten, Dense, Conv2D, MaxPooling2D\n",
        "from keras.layers import Dropout, BatchNormalization, Activation\n",
        "from keras.callbacks import Callback\n",
        "from keras.preprocessing.image import ImageDataGenerator\n",
        "from tensorflow.keras import optimizers"
      ],
      "metadata": {
        "id": "wf-GDwQbDrcT"
      },
      "execution_count": null,
      "outputs": []
    },
    {
      "cell_type": "code",
      "source": [
        "direktori_train ='/content/fer2013_5exp_modif/train'\n",
        "direktori_test ='/content/fer2013_5exp_modif/test'"
      ],
      "metadata": {
        "id": "nIDdNDXRDreR"
      },
      "execution_count": null,
      "outputs": []
    },
    {
      "cell_type": "code",
      "source": [
        "img_size = (48,48)\n",
        "batch_size = 8\n",
        "split = 0.1\n",
        "nb_epochs = 90\n",
        "lr = 0.0001"
      ],
      "metadata": {
        "id": "owZSxcWjDrgP"
      },
      "execution_count": null,
      "outputs": []
    },
    {
      "cell_type": "code",
      "source": [
        "image_generator = ImageDataGenerator(rescale=1./255, \n",
        "                                   validation_split= split,# set validation split\n",
        "                                   rotation_range =15,\n",
        "                                   width_shift_range=0.15,\n",
        "                                   height_shift_range=0.15,\n",
        "                                   shear_range=0.15,\n",
        "                                   zoom_range=0.15,\n",
        "                                   horizontal_flip=True) \n",
        "\n",
        "train_set = image_generator.flow_from_directory(direktori_train,\n",
        "                                                    target_size=img_size,\n",
        "                                                    batch_size=batch_size,\n",
        "                                                    class_mode='categorical',\n",
        "                                                    color_mode = 'grayscale',\n",
        "                                                    subset='training') # set as training data\n",
        "\n",
        "validation_set = image_generator.flow_from_directory(direktori_train, # same directory as training data\n",
        "                                                         target_size=img_size,\n",
        "                                                         batch_size=batch_size,\n",
        "                                                         shuffle=False,\n",
        "                                                         class_mode='categorical',\n",
        "                                                         color_mode = 'grayscale',\n",
        "                                                         subset='validation') # set as validation data\n",
        "\n",
        "image_generator2 = ImageDataGenerator(rescale=1./255)\n",
        "\n",
        "test_set = image_generator2.flow_from_directory(direktori_test,\n",
        "                                                target_size=img_size,\n",
        "                                                shuffle=False,\n",
        "                                                class_mode='categorical',\n",
        "                                                color_mode = 'grayscale') # set as test data"
      ],
      "metadata": {
        "colab": {
          "base_uri": "https://localhost:8080/"
        },
        "id": "c7G8Q_TwDriK",
        "outputId": "d315ff5f-3946-446a-fb03-509fc36c1fc3"
      },
      "execution_count": null,
      "outputs": [
        {
          "output_type": "stream",
          "name": "stdout",
          "text": [
            "Found 19371 images belonging to 5 classes.\n",
            "Found 2150 images belonging to 5 classes.\n",
            "Found 2388 images belonging to 5 classes.\n"
          ]
        }
      ]
    },
    {
      "cell_type": "code",
      "source": [
        "from keras import activations\n",
        "# Initialising the CNN Alexnet Architecture\n",
        "model = Sequential(name = 'AlexNetModification')\n",
        "\n",
        "model.add(Conv2D(96,(11,11), input_shape=(48, 48, 1), name='conv2d_1'))\n",
        "model.add(Activation('relu'))\n",
        "model.add(BatchNormalization(name='batchnorm_1'))\n",
        "model.add(MaxPooling2D(pool_size=2,strides=2,name='maxpool2d_1'))\n",
        "model.add(Dropout(0.3, name='dropout_1'))\n",
        "\n",
        "model.add(Conv2D(256,(5,5),padding='same',name='conv2d_2'))\n",
        "model.add(Activation('relu'))\n",
        "model.add(BatchNormalization(name='batchnorm_2'))\n",
        "model.add(MaxPooling2D(pool_size=2,strides=2,name='maxpool2d_2'))\n",
        "model.add(Dropout(0.3 ,name='dropout_2'))\n",
        "\n",
        "model.add(Conv2D(384,(3,3),padding='same',name='conv2d_3'))\n",
        "model.add(Activation('relu'))\n",
        "model.add(BatchNormalization(name='batchnorm_3'))\n",
        "\n",
        "model.add(Conv2D(384,(3,3),padding='same',name='conv2d_4'))\n",
        "model.add(Activation('relu'))\n",
        "model.add(BatchNormalization(name='batchnorm_4'))\n",
        "\n",
        "model.add(Conv2D(256,(3,3),padding='same',name='conv2d_5'))\n",
        "model.add(Activation('relu'))\n",
        "model.add(BatchNormalization(name='batchnorm_5'))\n",
        "model.add(MaxPooling2D(pool_size=2,strides=2,name='maxpool2d_3'))\n",
        "model.add(Dropout(0.3 ,name='dropout_3'))\n",
        "\n",
        "model.add(Flatten(name='flatten'))\n",
        "\n",
        "model.add(Dense(4096, activation='relu',name='dense_1'))\n",
        "model.add(Dropout(0.3 ,name='dropout_4'))\n",
        "model.add(Dense(4096, activation='relu',name='dense_2'))\n",
        "model.add(Dropout(0.3 ,name='dropout_5'))\n",
        "\n",
        "model.add(Dense(5, activation='softmax',name='out_layer'))\n",
        "\n",
        "print(model.summary())\n",
        "\n",
        "opt = optimizers.Adam(learning_rate=lr)\n",
        "model.compile(optimizer=opt, loss='categorical_crossentropy', metrics=['accuracy'])"
      ],
      "metadata": {
        "colab": {
          "base_uri": "https://localhost:8080/"
        },
        "id": "2j--35AVDrkI",
        "outputId": "742a5c33-8025-4657-d8d4-5de07728c5f4"
      },
      "execution_count": null,
      "outputs": [
        {
          "output_type": "stream",
          "name": "stdout",
          "text": [
            "Model: \"AlexNetModFinal\"\n",
            "_________________________________________________________________\n",
            " Layer (type)                Output Shape              Param #   \n",
            "=================================================================\n",
            " conv2d_1 (Conv2D)           (None, 38, 38, 96)        11712     \n",
            "                                                                 \n",
            " activation (Activation)     (None, 38, 38, 96)        0         \n",
            "                                                                 \n",
            " batchnorm_1 (BatchNormaliza  (None, 38, 38, 96)       384       \n",
            " tion)                                                           \n",
            "                                                                 \n",
            " maxpool2d_1 (MaxPooling2D)  (None, 19, 19, 96)        0         \n",
            "                                                                 \n",
            " dropout_1 (Dropout)         (None, 19, 19, 96)        0         \n",
            "                                                                 \n",
            " conv2d_2 (Conv2D)           (None, 19, 19, 256)       614656    \n",
            "                                                                 \n",
            " activation_1 (Activation)   (None, 19, 19, 256)       0         \n",
            "                                                                 \n",
            " batchnorm_2 (BatchNormaliza  (None, 19, 19, 256)      1024      \n",
            " tion)                                                           \n",
            "                                                                 \n",
            " maxpool2d_2 (MaxPooling2D)  (None, 9, 9, 256)         0         \n",
            "                                                                 \n",
            " dropout_2 (Dropout)         (None, 9, 9, 256)         0         \n",
            "                                                                 \n",
            " conv2d_3 (Conv2D)           (None, 9, 9, 384)         885120    \n",
            "                                                                 \n",
            " activation_2 (Activation)   (None, 9, 9, 384)         0         \n",
            "                                                                 \n",
            " batchnorm_3 (BatchNormaliza  (None, 9, 9, 384)        1536      \n",
            " tion)                                                           \n",
            "                                                                 \n",
            " conv2d_4 (Conv2D)           (None, 9, 9, 384)         1327488   \n",
            "                                                                 \n",
            " activation_3 (Activation)   (None, 9, 9, 384)         0         \n",
            "                                                                 \n",
            " batchnorm_4 (BatchNormaliza  (None, 9, 9, 384)        1536      \n",
            " tion)                                                           \n",
            "                                                                 \n",
            " conv2d_5 (Conv2D)           (None, 9, 9, 256)         884992    \n",
            "                                                                 \n",
            " activation_4 (Activation)   (None, 9, 9, 256)         0         \n",
            "                                                                 \n",
            " batchnorm_5 (BatchNormaliza  (None, 9, 9, 256)        1024      \n",
            " tion)                                                           \n",
            "                                                                 \n",
            " maxpool2d_3 (MaxPooling2D)  (None, 4, 4, 256)         0         \n",
            "                                                                 \n",
            " dropout_3 (Dropout)         (None, 4, 4, 256)         0         \n",
            "                                                                 \n",
            " flatten (Flatten)           (None, 4096)              0         \n",
            "                                                                 \n",
            " dense_1 (Dense)             (None, 4096)              16781312  \n",
            "                                                                 \n",
            " dropout_4 (Dropout)         (None, 4096)              0         \n",
            "                                                                 \n",
            " dense_2 (Dense)             (None, 4096)              16781312  \n",
            "                                                                 \n",
            " dropout_5 (Dropout)         (None, 4096)              0         \n",
            "                                                                 \n",
            " out_layer (Dense)           (None, 5)                 20485     \n",
            "                                                                 \n",
            "=================================================================\n",
            "Total params: 37,312,581\n",
            "Trainable params: 37,309,829\n",
            "Non-trainable params: 2,752\n",
            "_________________________________________________________________\n",
            "None\n"
          ]
        }
      ]
    },
    {
      "cell_type": "code",
      "source": [
        "from keras.callbacks import ModelCheckpoint \n",
        "\n",
        "checkpoint = ModelCheckpoint(\"/content/drive/MyDrive/modelpengujiantest/test1.h5\",\n",
        "                             monitor='val_accuracy', \n",
        "                             verbose=2,\n",
        "                             save_best_only=True, \n",
        "                             mode='max')"
      ],
      "metadata": {
        "id": "TPTrvmv-Drl_"
      },
      "execution_count": null,
      "outputs": []
    },
    {
      "cell_type": "code",
      "source": [
        "history = model.fit(train_set,\n",
        "                    steps_per_epoch = train_set.samples // batch_size,\n",
        "                    validation_data = validation_set, \n",
        "                    validation_steps = validation_set.samples // batch_size,\n",
        "                    epochs = nb_epoch,\n",
        "                    callbacks=checkpoint)"
      ],
      "metadata": {
        "colab": {
          "base_uri": "https://localhost:8080/"
        },
        "id": "6V520HpkDroB",
        "outputId": "38d5e774-bfce-4cf6-8167-24aad658a640"
      },
      "execution_count": null,
      "outputs": [
        {
          "output_type": "stream",
          "name": "stdout",
          "text": [
            "Epoch 1/90\n",
            "2421/2421 [==============================] - ETA: 0s - loss: 1.5956 - accuracy: 0.3638\n",
            "Epoch 1: val_accuracy improved from -inf to 0.42257, saving model to /content/drive/MyDrive/modelpengujiantest/test1.h5\n",
            "2421/2421 [==============================] - 68s 23ms/step - loss: 1.5956 - accuracy: 0.3638 - val_loss: 1.3268 - val_accuracy: 0.4226\n",
            "Epoch 2/90\n",
            "2419/2421 [============================>.] - ETA: 0s - loss: 1.3125 - accuracy: 0.4414\n",
            "Epoch 2: val_accuracy improved from 0.42257 to 0.44403, saving model to /content/drive/MyDrive/modelpengujiantest/test1.h5\n",
            "2421/2421 [==============================] - 56s 23ms/step - loss: 1.3126 - accuracy: 0.4414 - val_loss: 1.2880 - val_accuracy: 0.4440\n",
            "Epoch 3/90\n",
            "2421/2421 [==============================] - ETA: 0s - loss: 1.2278 - accuracy: 0.4983\n",
            "Epoch 3: val_accuracy did not improve from 0.44403\n",
            "2421/2421 [==============================] - 51s 21ms/step - loss: 1.2278 - accuracy: 0.4983 - val_loss: 1.2970 - val_accuracy: 0.4090\n",
            "Epoch 4/90\n",
            "2420/2421 [============================>.] - ETA: 0s - loss: 1.1620 - accuracy: 0.5337\n",
            "Epoch 4: val_accuracy improved from 0.44403 to 0.56157, saving model to /content/drive/MyDrive/modelpengujiantest/test1.h5\n",
            "2421/2421 [==============================] - 54s 22ms/step - loss: 1.1624 - accuracy: 0.5337 - val_loss: 1.0763 - val_accuracy: 0.5616\n",
            "Epoch 5/90\n",
            "2419/2421 [============================>.] - ETA: 0s - loss: 1.0899 - accuracy: 0.5676\n",
            "Epoch 5: val_accuracy did not improve from 0.56157\n",
            "2421/2421 [==============================] - 50s 21ms/step - loss: 1.0898 - accuracy: 0.5677 - val_loss: 1.1231 - val_accuracy: 0.5606\n",
            "Epoch 6/90\n",
            "2419/2421 [============================>.] - ETA: 0s - loss: 1.0309 - accuracy: 0.5995\n",
            "Epoch 6: val_accuracy improved from 0.56157 to 0.61474, saving model to /content/drive/MyDrive/modelpengujiantest/test1.h5\n",
            "2421/2421 [==============================] - 52s 21ms/step - loss: 1.0308 - accuracy: 0.5996 - val_loss: 1.0023 - val_accuracy: 0.6147\n",
            "Epoch 7/90\n",
            "2420/2421 [============================>.] - ETA: 0s - loss: 0.9904 - accuracy: 0.6140\n",
            "Epoch 7: val_accuracy did not improve from 0.61474\n",
            "2421/2421 [==============================] - 51s 21ms/step - loss: 0.9902 - accuracy: 0.6141 - val_loss: 1.0188 - val_accuracy: 0.6073\n",
            "Epoch 8/90\n",
            "2421/2421 [==============================] - ETA: 0s - loss: 0.9665 - accuracy: 0.6303\n",
            "Epoch 8: val_accuracy improved from 0.61474 to 0.64879, saving model to /content/drive/MyDrive/modelpengujiantest/test1.h5\n",
            "2421/2421 [==============================] - 53s 22ms/step - loss: 0.9665 - accuracy: 0.6303 - val_loss: 0.9070 - val_accuracy: 0.6488\n",
            "Epoch 9/90\n",
            "2421/2421 [==============================] - ETA: 0s - loss: 0.9236 - accuracy: 0.6422\n",
            "Epoch 9: val_accuracy improved from 0.64879 to 0.65718, saving model to /content/drive/MyDrive/modelpengujiantest/test1.h5\n",
            "2421/2421 [==============================] - 54s 22ms/step - loss: 0.9236 - accuracy: 0.6422 - val_loss: 0.8883 - val_accuracy: 0.6572\n",
            "Epoch 10/90\n",
            "2419/2421 [============================>.] - ETA: 0s - loss: 0.9064 - accuracy: 0.6562\n",
            "Epoch 10: val_accuracy did not improve from 0.65718\n",
            "2421/2421 [==============================] - 50s 21ms/step - loss: 0.9068 - accuracy: 0.6561 - val_loss: 0.9078 - val_accuracy: 0.6497\n",
            "Epoch 11/90\n",
            "2420/2421 [============================>.] - ETA: 0s - loss: 0.8881 - accuracy: 0.6631\n",
            "Epoch 11: val_accuracy did not improve from 0.65718\n",
            "2421/2421 [==============================] - 49s 20ms/step - loss: 0.8881 - accuracy: 0.6631 - val_loss: 0.9986 - val_accuracy: 0.5924\n",
            "Epoch 12/90\n",
            "2421/2421 [==============================] - ETA: 0s - loss: 0.8679 - accuracy: 0.6727\n",
            "Epoch 12: val_accuracy improved from 0.65718 to 0.66325, saving model to /content/drive/MyDrive/modelpengujiantest/test1.h5\n",
            "2421/2421 [==============================] - 53s 22ms/step - loss: 0.8679 - accuracy: 0.6727 - val_loss: 0.8615 - val_accuracy: 0.6632\n",
            "Epoch 13/90\n",
            "2419/2421 [============================>.] - ETA: 0s - loss: 0.8450 - accuracy: 0.6798\n",
            "Epoch 13: val_accuracy improved from 0.66325 to 0.70429, saving model to /content/drive/MyDrive/modelpengujiantest/test1.h5\n",
            "2421/2421 [==============================] - 53s 22ms/step - loss: 0.8449 - accuracy: 0.6799 - val_loss: 0.8017 - val_accuracy: 0.7043\n",
            "Epoch 14/90\n",
            "2421/2421 [==============================] - ETA: 0s - loss: 0.8234 - accuracy: 0.6864\n",
            "Epoch 14: val_accuracy improved from 0.70429 to 0.70896, saving model to /content/drive/MyDrive/modelpengujiantest/test1.h5\n",
            "2421/2421 [==============================] - 54s 22ms/step - loss: 0.8234 - accuracy: 0.6864 - val_loss: 0.7793 - val_accuracy: 0.7090\n",
            "Epoch 15/90\n",
            "2419/2421 [============================>.] - ETA: 0s - loss: 0.8146 - accuracy: 0.6911\n",
            "Epoch 15: val_accuracy improved from 0.70896 to 0.71828, saving model to /content/drive/MyDrive/modelpengujiantest/test1.h5\n",
            "2421/2421 [==============================] - 54s 22ms/step - loss: 0.8145 - accuracy: 0.6911 - val_loss: 0.7534 - val_accuracy: 0.7183\n",
            "Epoch 16/90\n",
            "2419/2421 [============================>.] - ETA: 0s - loss: 0.8001 - accuracy: 0.6986\n",
            "Epoch 16: val_accuracy did not improve from 0.71828\n",
            "2421/2421 [==============================] - 50s 21ms/step - loss: 0.8001 - accuracy: 0.6987 - val_loss: 0.7669 - val_accuracy: 0.7127\n",
            "Epoch 17/90\n",
            "2421/2421 [==============================] - ETA: 0s - loss: 0.7895 - accuracy: 0.7013\n",
            "Epoch 17: val_accuracy did not improve from 0.71828\n",
            "2421/2421 [==============================] - 49s 20ms/step - loss: 0.7895 - accuracy: 0.7013 - val_loss: 0.7549 - val_accuracy: 0.7099\n",
            "Epoch 18/90\n",
            "2419/2421 [============================>.] - ETA: 0s - loss: 0.7881 - accuracy: 0.7053\n",
            "Epoch 18: val_accuracy did not improve from 0.71828\n",
            "2421/2421 [==============================] - 49s 20ms/step - loss: 0.7881 - accuracy: 0.7053 - val_loss: 0.8073 - val_accuracy: 0.6884\n",
            "Epoch 19/90\n",
            "2420/2421 [============================>.] - ETA: 0s - loss: 0.7675 - accuracy: 0.7124\n",
            "Epoch 19: val_accuracy did not improve from 0.71828\n",
            "2421/2421 [==============================] - 49s 20ms/step - loss: 0.7675 - accuracy: 0.7123 - val_loss: 0.7686 - val_accuracy: 0.7104\n",
            "Epoch 20/90\n",
            "2420/2421 [============================>.] - ETA: 0s - loss: 0.7629 - accuracy: 0.7112\n",
            "Epoch 20: val_accuracy did not improve from 0.71828\n",
            "2421/2421 [==============================] - 50s 21ms/step - loss: 0.7628 - accuracy: 0.7113 - val_loss: 0.7751 - val_accuracy: 0.7062\n",
            "Epoch 21/90\n",
            "2421/2421 [==============================] - ETA: 0s - loss: 0.7393 - accuracy: 0.7216\n",
            "Epoch 21: val_accuracy did not improve from 0.71828\n",
            "2421/2421 [==============================] - 50s 21ms/step - loss: 0.7393 - accuracy: 0.7216 - val_loss: 0.7787 - val_accuracy: 0.7006\n",
            "Epoch 22/90\n",
            "2420/2421 [============================>.] - ETA: 0s - loss: 0.7377 - accuracy: 0.7230\n",
            "Epoch 22: val_accuracy improved from 0.71828 to 0.72481, saving model to /content/drive/MyDrive/modelpengujiantest/test1.h5\n",
            "2421/2421 [==============================] - 53s 22ms/step - loss: 0.7379 - accuracy: 0.7229 - val_loss: 0.7324 - val_accuracy: 0.7248\n",
            "Epoch 23/90\n",
            "2420/2421 [============================>.] - ETA: 0s - loss: 0.7226 - accuracy: 0.7275\n",
            "Epoch 23: val_accuracy did not improve from 0.72481\n",
            "2421/2421 [==============================] - 49s 20ms/step - loss: 0.7225 - accuracy: 0.7275 - val_loss: 0.7639 - val_accuracy: 0.7146\n",
            "Epoch 24/90\n",
            "2421/2421 [==============================] - ETA: 0s - loss: 0.7213 - accuracy: 0.7296\n",
            "Epoch 24: val_accuracy improved from 0.72481 to 0.73368, saving model to /content/drive/MyDrive/modelpengujiantest/test1.h5\n",
            "2421/2421 [==============================] - 54s 22ms/step - loss: 0.7213 - accuracy: 0.7296 - val_loss: 0.7081 - val_accuracy: 0.7337\n",
            "Epoch 25/90\n",
            "2419/2421 [============================>.] - ETA: 0s - loss: 0.7128 - accuracy: 0.7366\n",
            "Epoch 25: val_accuracy did not improve from 0.73368\n",
            "2421/2421 [==============================] - 49s 20ms/step - loss: 0.7127 - accuracy: 0.7366 - val_loss: 0.7217 - val_accuracy: 0.7290\n",
            "Epoch 26/90\n",
            "2419/2421 [============================>.] - ETA: 0s - loss: 0.7120 - accuracy: 0.7344\n",
            "Epoch 26: val_accuracy did not improve from 0.73368\n",
            "2421/2421 [==============================] - 49s 20ms/step - loss: 0.7118 - accuracy: 0.7344 - val_loss: 0.7724 - val_accuracy: 0.7127\n",
            "Epoch 27/90\n",
            "2421/2421 [==============================] - ETA: 0s - loss: 0.7012 - accuracy: 0.7413\n",
            "Epoch 27: val_accuracy improved from 0.73368 to 0.74114, saving model to /content/drive/MyDrive/modelpengujiantest/test1.h5\n",
            "2421/2421 [==============================] - 53s 22ms/step - loss: 0.7012 - accuracy: 0.7413 - val_loss: 0.6841 - val_accuracy: 0.7411\n",
            "Epoch 28/90\n",
            "2421/2421 [==============================] - ETA: 0s - loss: 0.6968 - accuracy: 0.7411\n",
            "Epoch 28: val_accuracy improved from 0.74114 to 0.74534, saving model to /content/drive/MyDrive/modelpengujiantest/test1.h5\n",
            "2421/2421 [==============================] - 53s 22ms/step - loss: 0.6968 - accuracy: 0.7411 - val_loss: 0.6703 - val_accuracy: 0.7453\n",
            "Epoch 29/90\n",
            "2420/2421 [============================>.] - ETA: 0s - loss: 0.6823 - accuracy: 0.7501\n",
            "Epoch 29: val_accuracy improved from 0.74534 to 0.74860, saving model to /content/drive/MyDrive/modelpengujiantest/test1.h5\n",
            "2421/2421 [==============================] - 54s 22ms/step - loss: 0.6823 - accuracy: 0.7501 - val_loss: 0.6996 - val_accuracy: 0.7486\n",
            "Epoch 30/90\n",
            "2419/2421 [============================>.] - ETA: 0s - loss: 0.6841 - accuracy: 0.7490\n",
            "Epoch 30: val_accuracy improved from 0.74860 to 0.75840, saving model to /content/drive/MyDrive/modelpengujiantest/test1.h5\n",
            "2421/2421 [==============================] - 54s 22ms/step - loss: 0.6840 - accuracy: 0.7490 - val_loss: 0.6519 - val_accuracy: 0.7584\n",
            "Epoch 31/90\n",
            "2419/2421 [============================>.] - ETA: 0s - loss: 0.6682 - accuracy: 0.7512\n",
            "Epoch 31: val_accuracy did not improve from 0.75840\n",
            "2421/2421 [==============================] - 50s 21ms/step - loss: 0.6683 - accuracy: 0.7511 - val_loss: 0.6851 - val_accuracy: 0.7365\n",
            "Epoch 32/90\n",
            "2420/2421 [============================>.] - ETA: 0s - loss: 0.6620 - accuracy: 0.7539\n",
            "Epoch 32: val_accuracy did not improve from 0.75840\n",
            "2421/2421 [==============================] - 49s 20ms/step - loss: 0.6622 - accuracy: 0.7538 - val_loss: 0.6691 - val_accuracy: 0.7556\n",
            "Epoch 33/90\n",
            "2419/2421 [============================>.] - ETA: 0s - loss: 0.6638 - accuracy: 0.7543\n",
            "Epoch 33: val_accuracy did not improve from 0.75840\n",
            "2421/2421 [==============================] - 50s 21ms/step - loss: 0.6635 - accuracy: 0.7544 - val_loss: 0.6818 - val_accuracy: 0.7486\n",
            "Epoch 34/90\n",
            "2419/2421 [============================>.] - ETA: 0s - loss: 0.6536 - accuracy: 0.7593\n",
            "Epoch 34: val_accuracy did not improve from 0.75840\n",
            "2421/2421 [==============================] - 50s 20ms/step - loss: 0.6535 - accuracy: 0.7594 - val_loss: 0.7777 - val_accuracy: 0.7290\n",
            "Epoch 35/90\n",
            "2420/2421 [============================>.] - ETA: 0s - loss: 0.6468 - accuracy: 0.7596\n",
            "Epoch 35: val_accuracy did not improve from 0.75840\n",
            "2421/2421 [==============================] - 50s 21ms/step - loss: 0.6469 - accuracy: 0.7596 - val_loss: 0.6925 - val_accuracy: 0.7402\n",
            "Epoch 36/90\n",
            "2419/2421 [============================>.] - ETA: 0s - loss: 0.6537 - accuracy: 0.7607\n",
            "Epoch 36: val_accuracy did not improve from 0.75840\n",
            "2421/2421 [==============================] - 49s 20ms/step - loss: 0.6533 - accuracy: 0.7609 - val_loss: 0.7030 - val_accuracy: 0.7449\n",
            "Epoch 37/90\n",
            "2421/2421 [==============================] - ETA: 0s - loss: 0.6467 - accuracy: 0.7649\n",
            "Epoch 37: val_accuracy did not improve from 0.75840\n",
            "2421/2421 [==============================] - 50s 21ms/step - loss: 0.6467 - accuracy: 0.7649 - val_loss: 0.6882 - val_accuracy: 0.7458\n",
            "Epoch 38/90\n",
            "2421/2421 [==============================] - ETA: 0s - loss: 0.6313 - accuracy: 0.7668\n",
            "Epoch 38: val_accuracy did not improve from 0.75840\n",
            "2421/2421 [==============================] - 49s 20ms/step - loss: 0.6313 - accuracy: 0.7668 - val_loss: 0.7705 - val_accuracy: 0.7257\n",
            "Epoch 39/90\n",
            "2421/2421 [==============================] - ETA: 0s - loss: 0.6292 - accuracy: 0.7671\n",
            "Epoch 39: val_accuracy did not improve from 0.75840\n",
            "2421/2421 [==============================] - 50s 20ms/step - loss: 0.6292 - accuracy: 0.7671 - val_loss: 0.7574 - val_accuracy: 0.7090\n",
            "Epoch 40/90\n",
            "2420/2421 [============================>.] - ETA: 0s - loss: 0.6256 - accuracy: 0.7673\n",
            "Epoch 40: val_accuracy did not improve from 0.75840\n",
            "2421/2421 [==============================] - 50s 21ms/step - loss: 0.6255 - accuracy: 0.7673 - val_loss: 0.6784 - val_accuracy: 0.7486\n",
            "Epoch 41/90\n",
            "2420/2421 [============================>.] - ETA: 0s - loss: 0.6236 - accuracy: 0.7716\n",
            "Epoch 41: val_accuracy did not improve from 0.75840\n",
            "2421/2421 [==============================] - 49s 20ms/step - loss: 0.6235 - accuracy: 0.7716 - val_loss: 0.6839 - val_accuracy: 0.7570\n",
            "Epoch 42/90\n",
            "2419/2421 [============================>.] - ETA: 0s - loss: 0.6140 - accuracy: 0.7717\n",
            "Epoch 42: val_accuracy did not improve from 0.75840\n",
            "2421/2421 [==============================] - 51s 21ms/step - loss: 0.6138 - accuracy: 0.7718 - val_loss: 0.6657 - val_accuracy: 0.7519\n",
            "Epoch 43/90\n",
            "2420/2421 [============================>.] - ETA: 0s - loss: 0.6168 - accuracy: 0.7764\n",
            "Epoch 43: val_accuracy did not improve from 0.75840\n",
            "2421/2421 [==============================] - 49s 20ms/step - loss: 0.6168 - accuracy: 0.7764 - val_loss: 0.6742 - val_accuracy: 0.7523\n",
            "Epoch 44/90\n",
            "2421/2421 [==============================] - ETA: 0s - loss: 0.6046 - accuracy: 0.7774\n",
            "Epoch 44: val_accuracy improved from 0.75840 to 0.77425, saving model to /content/drive/MyDrive/modelpengujiantest/test1.h5\n",
            "2421/2421 [==============================] - 53s 22ms/step - loss: 0.6046 - accuracy: 0.7774 - val_loss: 0.6295 - val_accuracy: 0.7743\n",
            "Epoch 45/90\n",
            "2420/2421 [============================>.] - ETA: 0s - loss: 0.6091 - accuracy: 0.7776\n",
            "Epoch 45: val_accuracy did not improve from 0.77425\n",
            "2421/2421 [==============================] - 51s 21ms/step - loss: 0.6092 - accuracy: 0.7776 - val_loss: 0.6302 - val_accuracy: 0.7719\n",
            "Epoch 46/90\n",
            "2419/2421 [============================>.] - ETA: 0s - loss: 0.6041 - accuracy: 0.7768\n",
            "Epoch 46: val_accuracy did not improve from 0.77425\n",
            "2421/2421 [==============================] - 49s 20ms/step - loss: 0.6038 - accuracy: 0.7769 - val_loss: 0.6387 - val_accuracy: 0.7719\n",
            "Epoch 47/90\n",
            "2421/2421 [==============================] - ETA: 0s - loss: 0.5962 - accuracy: 0.7817\n",
            "Epoch 47: val_accuracy improved from 0.77425 to 0.77519, saving model to /content/drive/MyDrive/modelpengujiantest/test1.h5\n",
            "2421/2421 [==============================] - 53s 22ms/step - loss: 0.5962 - accuracy: 0.7817 - val_loss: 0.6377 - val_accuracy: 0.7752\n",
            "Epoch 48/90\n",
            "2420/2421 [============================>.] - ETA: 0s - loss: 0.5888 - accuracy: 0.7836\n",
            "Epoch 48: val_accuracy did not improve from 0.77519\n",
            "2421/2421 [==============================] - 51s 21ms/step - loss: 0.5890 - accuracy: 0.7835 - val_loss: 0.6529 - val_accuracy: 0.7687\n",
            "Epoch 49/90\n",
            "2420/2421 [============================>.] - ETA: 0s - loss: 0.5884 - accuracy: 0.7827\n",
            "Epoch 49: val_accuracy did not improve from 0.77519\n",
            "2421/2421 [==============================] - 49s 20ms/step - loss: 0.5885 - accuracy: 0.7827 - val_loss: 0.6333 - val_accuracy: 0.7668\n",
            "Epoch 50/90\n",
            "2420/2421 [============================>.] - ETA: 0s - loss: 0.5847 - accuracy: 0.7828\n",
            "Epoch 50: val_accuracy did not improve from 0.77519\n",
            "2421/2421 [==============================] - 49s 20ms/step - loss: 0.5846 - accuracy: 0.7829 - val_loss: 0.6264 - val_accuracy: 0.7696\n",
            "Epoch 51/90\n",
            "2419/2421 [============================>.] - ETA: 0s - loss: 0.5769 - accuracy: 0.7876\n",
            "Epoch 51: val_accuracy did not improve from 0.77519\n",
            "2421/2421 [==============================] - 50s 21ms/step - loss: 0.5767 - accuracy: 0.7876 - val_loss: 0.6602 - val_accuracy: 0.7631\n",
            "Epoch 52/90\n",
            "2421/2421 [==============================] - ETA: 0s - loss: 0.5742 - accuracy: 0.7875\n",
            "Epoch 52: val_accuracy did not improve from 0.77519\n",
            "2421/2421 [==============================] - 50s 21ms/step - loss: 0.5742 - accuracy: 0.7875 - val_loss: 0.6592 - val_accuracy: 0.7612\n",
            "Epoch 53/90\n",
            "2420/2421 [============================>.] - ETA: 0s - loss: 0.5735 - accuracy: 0.7878\n",
            "Epoch 53: val_accuracy did not improve from 0.77519\n",
            "2421/2421 [==============================] - 51s 21ms/step - loss: 0.5739 - accuracy: 0.7876 - val_loss: 0.6203 - val_accuracy: 0.7617\n",
            "Epoch 54/90\n",
            "2419/2421 [============================>.] - ETA: 0s - loss: 0.5767 - accuracy: 0.7882\n",
            "Epoch 54: val_accuracy did not improve from 0.77519\n",
            "2421/2421 [==============================] - 49s 20ms/step - loss: 0.5765 - accuracy: 0.7884 - val_loss: 0.6358 - val_accuracy: 0.7668\n",
            "Epoch 55/90\n",
            "2420/2421 [============================>.] - ETA: 0s - loss: 0.5623 - accuracy: 0.7968\n",
            "Epoch 55: val_accuracy did not improve from 0.77519\n",
            "2421/2421 [==============================] - 51s 21ms/step - loss: 0.5623 - accuracy: 0.7968 - val_loss: 0.6444 - val_accuracy: 0.7631\n",
            "Epoch 56/90\n",
            "2421/2421 [==============================] - ETA: 0s - loss: 0.5624 - accuracy: 0.7892\n",
            "Epoch 56: val_accuracy did not improve from 0.77519\n",
            "2421/2421 [==============================] - 50s 20ms/step - loss: 0.5624 - accuracy: 0.7892 - val_loss: 0.7357 - val_accuracy: 0.7393\n",
            "Epoch 57/90\n",
            "2419/2421 [============================>.] - ETA: 0s - loss: 0.5608 - accuracy: 0.7937\n",
            "Epoch 57: val_accuracy improved from 0.77519 to 0.78078, saving model to /content/drive/MyDrive/modelpengujiantest/test1.h5\n",
            "2421/2421 [==============================] - 55s 23ms/step - loss: 0.5607 - accuracy: 0.7938 - val_loss: 0.6015 - val_accuracy: 0.7808\n",
            "Epoch 58/90\n",
            "2421/2421 [==============================] - ETA: 0s - loss: 0.5504 - accuracy: 0.8000\n",
            "Epoch 58: val_accuracy did not improve from 0.78078\n",
            "2421/2421 [==============================] - 50s 20ms/step - loss: 0.5504 - accuracy: 0.8000 - val_loss: 0.6621 - val_accuracy: 0.7719\n",
            "Epoch 59/90\n",
            "2420/2421 [============================>.] - ETA: 0s - loss: 0.5491 - accuracy: 0.8001\n",
            "Epoch 59: val_accuracy did not improve from 0.78078\n",
            "2421/2421 [==============================] - 51s 21ms/step - loss: 0.5492 - accuracy: 0.8000 - val_loss: 0.6651 - val_accuracy: 0.7514\n",
            "Epoch 60/90\n",
            "2421/2421 [==============================] - ETA: 0s - loss: 0.5436 - accuracy: 0.8017\n",
            "Epoch 60: val_accuracy did not improve from 0.78078\n",
            "2421/2421 [==============================] - 50s 21ms/step - loss: 0.5436 - accuracy: 0.8017 - val_loss: 0.6208 - val_accuracy: 0.7682\n",
            "Epoch 61/90\n",
            "2419/2421 [============================>.] - ETA: 0s - loss: 0.5364 - accuracy: 0.7996\n",
            "Epoch 61: val_accuracy improved from 0.78078 to 0.78405, saving model to /content/drive/MyDrive/modelpengujiantest/test1.h5\n",
            "2421/2421 [==============================] - 55s 23ms/step - loss: 0.5363 - accuracy: 0.7996 - val_loss: 0.6362 - val_accuracy: 0.7840\n",
            "Epoch 62/90\n",
            "2421/2421 [==============================] - ETA: 0s - loss: 0.5371 - accuracy: 0.8037\n",
            "Epoch 62: val_accuracy did not improve from 0.78405\n",
            "2421/2421 [==============================] - 50s 21ms/step - loss: 0.5371 - accuracy: 0.8037 - val_loss: 0.6275 - val_accuracy: 0.7663\n",
            "Epoch 63/90\n",
            "2420/2421 [============================>.] - ETA: 0s - loss: 0.5347 - accuracy: 0.8040\n",
            "Epoch 63: val_accuracy improved from 0.78405 to 0.78731, saving model to /content/drive/MyDrive/modelpengujiantest/test1.h5\n",
            "2421/2421 [==============================] - 54s 22ms/step - loss: 0.5347 - accuracy: 0.8041 - val_loss: 0.6189 - val_accuracy: 0.7873\n",
            "Epoch 64/90\n",
            "2420/2421 [============================>.] - ETA: 0s - loss: 0.5289 - accuracy: 0.8055\n",
            "Epoch 64: val_accuracy improved from 0.78731 to 0.79291, saving model to /content/drive/MyDrive/modelpengujiantest/test1.h5\n",
            "2421/2421 [==============================] - 55s 23ms/step - loss: 0.5290 - accuracy: 0.8055 - val_loss: 0.6044 - val_accuracy: 0.7929\n",
            "Epoch 65/90\n",
            "2419/2421 [============================>.] - ETA: 0s - loss: 0.5341 - accuracy: 0.8058\n",
            "Epoch 65: val_accuracy did not improve from 0.79291\n",
            "2421/2421 [==============================] - 50s 20ms/step - loss: 0.5338 - accuracy: 0.8059 - val_loss: 0.6591 - val_accuracy: 0.7635\n",
            "Epoch 66/90\n",
            "2421/2421 [==============================] - ETA: 0s - loss: 0.5251 - accuracy: 0.8067\n",
            "Epoch 66: val_accuracy did not improve from 0.79291\n",
            "2421/2421 [==============================] - 50s 21ms/step - loss: 0.5251 - accuracy: 0.8067 - val_loss: 0.6694 - val_accuracy: 0.7556\n",
            "Epoch 67/90\n",
            "2419/2421 [============================>.] - ETA: 0s - loss: 0.5277 - accuracy: 0.8056\n",
            "Epoch 67: val_accuracy did not improve from 0.79291\n",
            "2421/2421 [==============================] - 50s 20ms/step - loss: 0.5277 - accuracy: 0.8056 - val_loss: 0.6480 - val_accuracy: 0.7794\n",
            "Epoch 68/90\n",
            "2419/2421 [============================>.] - ETA: 0s - loss: 0.5132 - accuracy: 0.8134\n",
            "Epoch 68: val_accuracy did not improve from 0.79291\n",
            "2421/2421 [==============================] - 51s 21ms/step - loss: 0.5131 - accuracy: 0.8135 - val_loss: 0.6638 - val_accuracy: 0.7752\n",
            "Epoch 69/90\n",
            "2421/2421 [==============================] - ETA: 0s - loss: 0.5172 - accuracy: 0.8111\n",
            "Epoch 69: val_accuracy did not improve from 0.79291\n",
            "2421/2421 [==============================] - 50s 21ms/step - loss: 0.5172 - accuracy: 0.8111 - val_loss: 0.6669 - val_accuracy: 0.7854\n",
            "Epoch 70/90\n",
            "2419/2421 [============================>.] - ETA: 0s - loss: 0.5126 - accuracy: 0.8091\n",
            "Epoch 70: val_accuracy did not improve from 0.79291\n",
            "2421/2421 [==============================] - 51s 21ms/step - loss: 0.5125 - accuracy: 0.8091 - val_loss: 0.6434 - val_accuracy: 0.7794\n",
            "Epoch 71/90\n",
            "2420/2421 [============================>.] - ETA: 0s - loss: 0.5108 - accuracy: 0.8107\n",
            "Epoch 71: val_accuracy did not improve from 0.79291\n",
            "2421/2421 [==============================] - 51s 21ms/step - loss: 0.5107 - accuracy: 0.8107 - val_loss: 0.6492 - val_accuracy: 0.7743\n",
            "Epoch 72/90\n",
            "2421/2421 [==============================] - ETA: 0s - loss: 0.5126 - accuracy: 0.8117\n",
            "Epoch 72: val_accuracy did not improve from 0.79291\n",
            "2421/2421 [==============================] - 50s 21ms/step - loss: 0.5126 - accuracy: 0.8117 - val_loss: 0.6677 - val_accuracy: 0.7570\n",
            "Epoch 73/90\n",
            "2419/2421 [============================>.] - ETA: 0s - loss: 0.5072 - accuracy: 0.8155\n",
            "Epoch 73: val_accuracy did not improve from 0.79291\n",
            "2421/2421 [==============================] - 51s 21ms/step - loss: 0.5070 - accuracy: 0.8156 - val_loss: 0.6370 - val_accuracy: 0.7729\n",
            "Epoch 74/90\n",
            "2421/2421 [==============================] - ETA: 0s - loss: 0.4990 - accuracy: 0.8197\n",
            "Epoch 74: val_accuracy did not improve from 0.79291\n",
            "2421/2421 [==============================] - 50s 21ms/step - loss: 0.4990 - accuracy: 0.8197 - val_loss: 0.6539 - val_accuracy: 0.7691\n",
            "Epoch 75/90\n",
            "2420/2421 [============================>.] - ETA: 0s - loss: 0.4930 - accuracy: 0.8204\n",
            "Epoch 75: val_accuracy did not improve from 0.79291\n",
            "2421/2421 [==============================] - 51s 21ms/step - loss: 0.4929 - accuracy: 0.8204 - val_loss: 0.6749 - val_accuracy: 0.7654\n",
            "Epoch 76/90\n",
            "2419/2421 [============================>.] - ETA: 0s - loss: 0.5037 - accuracy: 0.8171\n",
            "Epoch 76: val_accuracy did not improve from 0.79291\n",
            "2421/2421 [==============================] - 51s 21ms/step - loss: 0.5036 - accuracy: 0.8172 - val_loss: 0.6053 - val_accuracy: 0.7691\n",
            "Epoch 77/90\n",
            "2421/2421 [==============================] - ETA: 0s - loss: 0.4909 - accuracy: 0.8220\n",
            "Epoch 77: val_accuracy did not improve from 0.79291\n",
            "2421/2421 [==============================] - 50s 21ms/step - loss: 0.4909 - accuracy: 0.8220 - val_loss: 0.6161 - val_accuracy: 0.7705\n",
            "Epoch 78/90\n",
            "2420/2421 [============================>.] - ETA: 0s - loss: 0.4935 - accuracy: 0.8201\n",
            "Epoch 78: val_accuracy did not improve from 0.79291\n",
            "2421/2421 [==============================] - 50s 21ms/step - loss: 0.4935 - accuracy: 0.8201 - val_loss: 0.5997 - val_accuracy: 0.7850\n",
            "Epoch 79/90\n",
            "2420/2421 [============================>.] - ETA: 0s - loss: 0.4918 - accuracy: 0.8239\n",
            "Epoch 79: val_accuracy did not improve from 0.79291\n",
            "2421/2421 [==============================] - 50s 21ms/step - loss: 0.4920 - accuracy: 0.8238 - val_loss: 0.6221 - val_accuracy: 0.7831\n",
            "Epoch 80/90\n",
            "2420/2421 [============================>.] - ETA: 0s - loss: 0.4796 - accuracy: 0.8244\n",
            "Epoch 80: val_accuracy did not improve from 0.79291\n",
            "2421/2421 [==============================] - 50s 21ms/step - loss: 0.4796 - accuracy: 0.8245 - val_loss: 0.6209 - val_accuracy: 0.7864\n",
            "Epoch 81/90\n",
            "2420/2421 [============================>.] - ETA: 0s - loss: 0.4859 - accuracy: 0.8234\n",
            "Epoch 81: val_accuracy did not improve from 0.79291\n",
            "2421/2421 [==============================] - 50s 21ms/step - loss: 0.4861 - accuracy: 0.8233 - val_loss: 0.6399 - val_accuracy: 0.7659\n",
            "Epoch 82/90\n",
            "2421/2421 [==============================] - ETA: 0s - loss: 0.4790 - accuracy: 0.8267\n",
            "Epoch 82: val_accuracy did not improve from 0.79291\n",
            "2421/2421 [==============================] - 50s 21ms/step - loss: 0.4790 - accuracy: 0.8267 - val_loss: 0.6607 - val_accuracy: 0.7687\n",
            "Epoch 83/90\n",
            "2419/2421 [============================>.] - ETA: 0s - loss: 0.4728 - accuracy: 0.8271\n",
            "Epoch 83: val_accuracy did not improve from 0.79291\n",
            "2421/2421 [==============================] - 50s 21ms/step - loss: 0.4728 - accuracy: 0.8271 - val_loss: 0.6151 - val_accuracy: 0.7924\n",
            "Epoch 84/90\n",
            "2420/2421 [============================>.] - ETA: 0s - loss: 0.4682 - accuracy: 0.8314\n",
            "Epoch 84: val_accuracy did not improve from 0.79291\n",
            "2421/2421 [==============================] - 50s 21ms/step - loss: 0.4681 - accuracy: 0.8314 - val_loss: 0.6352 - val_accuracy: 0.7542\n",
            "Epoch 85/90\n",
            "2420/2421 [============================>.] - ETA: 0s - loss: 0.4709 - accuracy: 0.8261\n",
            "Epoch 85: val_accuracy did not improve from 0.79291\n",
            "2421/2421 [==============================] - 50s 21ms/step - loss: 0.4707 - accuracy: 0.8262 - val_loss: 0.6734 - val_accuracy: 0.7729\n",
            "Epoch 86/90\n",
            "2421/2421 [==============================] - ETA: 0s - loss: 0.4651 - accuracy: 0.8300\n",
            "Epoch 86: val_accuracy improved from 0.79291 to 0.79478, saving model to /content/drive/MyDrive/modelpengujiantest/test1.h5\n",
            "2421/2421 [==============================] - 55s 23ms/step - loss: 0.4651 - accuracy: 0.8300 - val_loss: 0.6476 - val_accuracy: 0.7948\n",
            "Epoch 87/90\n",
            "2419/2421 [============================>.] - ETA: 0s - loss: 0.4648 - accuracy: 0.8320\n",
            "Epoch 87: val_accuracy did not improve from 0.79478\n",
            "2421/2421 [==============================] - 52s 21ms/step - loss: 0.4647 - accuracy: 0.8320 - val_loss: 0.5966 - val_accuracy: 0.7785\n",
            "Epoch 88/90\n",
            "2419/2421 [============================>.] - ETA: 0s - loss: 0.4603 - accuracy: 0.8307\n",
            "Epoch 88: val_accuracy did not improve from 0.79478\n",
            "2421/2421 [==============================] - 50s 21ms/step - loss: 0.4602 - accuracy: 0.8307 - val_loss: 0.7795 - val_accuracy: 0.7663\n",
            "Epoch 89/90\n",
            "2421/2421 [==============================] - ETA: 0s - loss: 0.4583 - accuracy: 0.8333\n",
            "Epoch 89: val_accuracy did not improve from 0.79478\n",
            "2421/2421 [==============================] - 51s 21ms/step - loss: 0.4583 - accuracy: 0.8333 - val_loss: 0.6375 - val_accuracy: 0.7738\n",
            "Epoch 90/90\n",
            "2419/2421 [============================>.] - ETA: 0s - loss: 0.4525 - accuracy: 0.8354\n",
            "Epoch 90: val_accuracy did not improve from 0.79478\n",
            "2421/2421 [==============================] - 51s 21ms/step - loss: 0.4523 - accuracy: 0.8355 - val_loss: 0.6517 - val_accuracy: 0.7523\n"
          ]
        }
      ]
    },
    {
      "cell_type": "code",
      "source": [
        "from keras.models import load_model\n",
        "model = load_model('/content/drive/MyDrive/modelpengujiantest/test1.h5')"
      ],
      "metadata": {
        "id": "ktKuQke1k2Be"
      },
      "execution_count": null,
      "outputs": []
    },
    {
      "cell_type": "code",
      "source": [
        "history = model.fit(train_set,\n",
        "                    steps_per_epoch = train_set.samples // batch_size,\n",
        "                    validation_data = validation_set, \n",
        "                    validation_steps = validation_set.samples // batch_size,\n",
        "                    epochs = 10,\n",
        "                    callbacks=checkpoint)"
      ],
      "metadata": {
        "colab": {
          "base_uri": "https://localhost:8080/"
        },
        "id": "R8HO4u-empfn",
        "outputId": "32dfac29-09d3-4550-88f6-4380e773fc83"
      },
      "execution_count": null,
      "outputs": [
        {
          "output_type": "stream",
          "name": "stdout",
          "text": [
            "Epoch 1/10\n",
            "2421/2421 [==============================] - ETA: 0s - loss: 0.4678 - accuracy: 0.8300\n",
            "Epoch 1: val_accuracy improved from -inf to 0.79058, saving model to /content/drive/MyDrive/modelpengujiantest/test1.h5\n",
            "2421/2421 [==============================] - 56s 22ms/step - loss: 0.4678 - accuracy: 0.8300 - val_loss: 0.6657 - val_accuracy: 0.7906\n",
            "Epoch 2/10\n",
            "2420/2421 [============================>.] - ETA: 0s - loss: 0.4646 - accuracy: 0.8298\n",
            "Epoch 2: val_accuracy did not improve from 0.79058\n",
            "2421/2421 [==============================] - 51s 21ms/step - loss: 0.4646 - accuracy: 0.8298 - val_loss: 0.6274 - val_accuracy: 0.7840\n",
            "Epoch 3/10\n",
            "2419/2421 [============================>.] - ETA: 0s - loss: 0.4660 - accuracy: 0.8335\n",
            "Epoch 3: val_accuracy did not improve from 0.79058\n",
            "2421/2421 [==============================] - 51s 21ms/step - loss: 0.4661 - accuracy: 0.8334 - val_loss: 0.6223 - val_accuracy: 0.7845\n",
            "Epoch 4/10\n",
            "2421/2421 [==============================] - ETA: 0s - loss: 0.4578 - accuracy: 0.8344\n",
            "Epoch 4: val_accuracy did not improve from 0.79058\n",
            "2421/2421 [==============================] - 51s 21ms/step - loss: 0.4578 - accuracy: 0.8344 - val_loss: 0.7496 - val_accuracy: 0.7892\n",
            "Epoch 5/10\n",
            "2420/2421 [============================>.] - ETA: 0s - loss: 0.4591 - accuracy: 0.8332\n",
            "Epoch 5: val_accuracy did not improve from 0.79058\n",
            "2421/2421 [==============================] - 51s 21ms/step - loss: 0.4590 - accuracy: 0.8333 - val_loss: 0.6265 - val_accuracy: 0.7868\n",
            "Epoch 6/10\n",
            "2421/2421 [==============================] - ETA: 0s - loss: 0.4554 - accuracy: 0.8354\n",
            "Epoch 6: val_accuracy did not improve from 0.79058\n",
            "2421/2421 [==============================] - 51s 21ms/step - loss: 0.4554 - accuracy: 0.8354 - val_loss: 0.6524 - val_accuracy: 0.7789\n",
            "Epoch 7/10\n",
            "2420/2421 [============================>.] - ETA: 0s - loss: 0.4540 - accuracy: 0.8337\n",
            "Epoch 7: val_accuracy did not improve from 0.79058\n",
            "2421/2421 [==============================] - 51s 21ms/step - loss: 0.4540 - accuracy: 0.8338 - val_loss: 0.5870 - val_accuracy: 0.7887\n",
            "Epoch 8/10\n",
            "2420/2421 [============================>.] - ETA: 0s - loss: 0.4462 - accuracy: 0.8355\n",
            "Epoch 8: val_accuracy improved from 0.79058 to 0.79804, saving model to /content/drive/MyDrive/modelpengujiantest/test1.h5\n",
            "2421/2421 [==============================] - 55s 23ms/step - loss: 0.4461 - accuracy: 0.8356 - val_loss: 0.5994 - val_accuracy: 0.7980\n",
            "Epoch 9/10\n",
            "2419/2421 [============================>.] - ETA: 0s - loss: 0.4493 - accuracy: 0.8369\n",
            "Epoch 9: val_accuracy did not improve from 0.79804\n",
            "2421/2421 [==============================] - 53s 22ms/step - loss: 0.4491 - accuracy: 0.8370 - val_loss: 0.6228 - val_accuracy: 0.7910\n",
            "Epoch 10/10\n",
            "2421/2421 [==============================] - ETA: 0s - loss: 0.4405 - accuracy: 0.8389\n",
            "Epoch 10: val_accuracy did not improve from 0.79804\n",
            "2421/2421 [==============================] - 51s 21ms/step - loss: 0.4405 - accuracy: 0.8389 - val_loss: 0.7154 - val_accuracy: 0.7896\n"
          ]
        }
      ]
    },
    {
      "cell_type": "code",
      "source": [
        "sns.set()\n",
        "fig = pyplot.figure(0, (12, 4))\n",
        "\n",
        "ax = pyplot.subplot(1, 2, 1)\n",
        "sns.lineplot(history.epoch, history.history['accuracy'], label='train')\n",
        "sns.lineplot(history.epoch, history.history['val_accuracy'], label='valid')\n",
        "pyplot.ylabel('accuracy')\n",
        "pyplot.xlabel('epoch')\n",
        "pyplot.title('Model Accuracy')\n",
        "pyplot.tight_layout()\n",
        "\n",
        "ax = pyplot.subplot(1, 2, 2)\n",
        "sns.lineplot(history.epoch, history.history['loss'], label='train')\n",
        "sns.lineplot(history.epoch, history.history['val_loss'], label='valid')\n",
        "pyplot.ylabel('loss')\n",
        "pyplot.xlabel('epoch')\n",
        "pyplot.title('Model Loss')\n",
        "pyplot.tight_layout()\n",
        "\n",
        "pyplot.show()"
      ],
      "metadata": {
        "colab": {
          "base_uri": "https://localhost:8080/",
          "height": 456
        },
        "id": "5GaDzKWHDrqL",
        "outputId": "61fe5023-5487-4361-b97b-e9f76745751a"
      },
      "execution_count": null,
      "outputs": [
        {
          "output_type": "stream",
          "name": "stderr",
          "text": [
            "/usr/local/lib/python3.7/dist-packages/seaborn/_decorators.py:43: FutureWarning: Pass the following variables as keyword args: x, y. From version 0.12, the only valid positional argument will be `data`, and passing other arguments without an explicit keyword will result in an error or misinterpretation.\n",
            "  FutureWarning\n",
            "/usr/local/lib/python3.7/dist-packages/seaborn/_decorators.py:43: FutureWarning: Pass the following variables as keyword args: x, y. From version 0.12, the only valid positional argument will be `data`, and passing other arguments without an explicit keyword will result in an error or misinterpretation.\n",
            "  FutureWarning\n",
            "/usr/local/lib/python3.7/dist-packages/seaborn/_decorators.py:43: FutureWarning: Pass the following variables as keyword args: x, y. From version 0.12, the only valid positional argument will be `data`, and passing other arguments without an explicit keyword will result in an error or misinterpretation.\n",
            "  FutureWarning\n",
            "/usr/local/lib/python3.7/dist-packages/seaborn/_decorators.py:43: FutureWarning: Pass the following variables as keyword args: x, y. From version 0.12, the only valid positional argument will be `data`, and passing other arguments without an explicit keyword will result in an error or misinterpretation.\n",
            "  FutureWarning\n"
          ]
        },
        {
          "output_type": "display_data",
          "data": {
            "text/plain": [
              "<Figure size 864x288 with 2 Axes>"
            ],
            "image/png": "[encoded data removed]"
          },
          "metadata": {}
        }
      ]
    },
    {
      "cell_type": "code",
      "source": [
        "Y_pred = model.predict(test_set)"
      ],
      "metadata": {
        "id": "1iPqlGnODrsC"
      },
      "execution_count": null,
      "outputs": []
    },
    {
      "cell_type": "code",
      "source": [
        "y_pred = np.argmax(Y_pred, axis=1)"
      ],
      "metadata": {
        "id": "NY4an5VWDrt_"
      },
      "execution_count": null,
      "outputs": []
    },
    {
      "cell_type": "code",
      "source": [
        "kategori= sorted(os.listdir(direktori_test))\n",
        "print(f'total wrong validation predictions: {np.sum(test_set.classes != y_pred)}\\n\\n')\n",
        "print(classification_report(test_set.classes,y_pred))"
      ],
      "metadata": {
        "colab": {
          "base_uri": "https://localhost:8080/"
        },
        "id": "HSVpyJyHDrwQ",
        "outputId": "609e1707-cab0-4e1c-b0d3-e9cabcb38c22"
      },
      "execution_count": null,
      "outputs": [
        {
          "output_type": "stream",
          "name": "stdout",
          "text": [
            "total wrong validation predictions: 400\n",
            "\n",
            "\n",
            "              precision    recall  f1-score   support\n",
            "\n",
            "           0       0.75      0.72      0.74       454\n",
            "           1       0.73      0.65      0.69        54\n",
            "           2       0.91      0.90      0.90       882\n",
            "           3       0.77      0.81      0.79       607\n",
            "           4       0.85      0.87      0.86       391\n",
            "\n",
            "    accuracy                           0.83      2388\n",
            "   macro avg       0.80      0.79      0.80      2388\n",
            "weighted avg       0.83      0.83      0.83      2388\n",
            "\n"
          ]
        }
      ]
    },
    {
      "cell_type": "code",
      "source": [
        "cf_matrix = confusion_matrix(test_set.classes, y_pred, normalize='true')\n",
        "fig, ax = pyplot.subplots(figsize=(10,7))\n",
        "NormalizedConfMatrix = sns.heatmap(cf_matrix, linewidths=1,\n",
        "                                   annot=True, \n",
        "                                   ax=ax, \n",
        "                                   xticklabels=kategori, \n",
        "                                   yticklabels=kategori,\n",
        "                                   cmap=\"YlGnBu\")\n",
        "NormalizedConfMatrix.set(xlabel='Predict Label', ylabel='True Label')\n",
        "NormalizedConfMatrix.set_title(\"Normalized Confusion Matrix\", fontsize =20)"
      ],
      "metadata": {
        "colab": {
          "base_uri": "https://localhost:8080/",
          "height": 487
        },
        "id": "2zSpRC0bDryX",
        "outputId": "4467ed03-3da6-4823-b91d-6f040d8fb80a"
      },
      "execution_count": null,
      "outputs": [
        {
          "output_type": "execute_result",
          "data": {
            "text/plain": [
              "Text(0.5, 1.0, 'Normalized Confusion Matrix')"
            ]
          },
          "metadata": {},
          "execution_count": 22
        },
        {
          "output_type": "display_data",
          "data": {
            "text/plain": [
              "<Figure size 720x504 with 2 Axes>"
            ],
            "image/png": "[encoded data removed]"
          },
          "metadata": {}
        }
      ]
    },
    {
      "cell_type": "code",
      "source": [
        "cf = confusion_matrix(test_set.classes,y_pred)\n",
        "fig, ax = pyplot.subplots(figsize=(10,7))\n",
        "ConfMatrix = sns.heatmap(cf, linewidths=1,\n",
        "                         annot=True, \n",
        "                         ax=ax, \n",
        "                         xticklabels=kategori,\n",
        "                         yticklabels=kategori,fmt='d', \n",
        "                         cmap=\"YlGnBu\")\n",
        "ConfMatrix.set(xlabel='Predict Label', ylabel='True Label')\n",
        "ConfMatrix.set_title(\"Confusion Matrix\", fontsize =20)"
      ],
      "metadata": {
        "colab": {
          "base_uri": "https://localhost:8080/",
          "height": 487
        },
        "id": "YlqZc3m7Dr0t",
        "outputId": "e0d1fe89-d381-4461-9d66-b6c978ebcead"
      },
      "execution_count": null,
      "outputs": [
        {
          "output_type": "execute_result",
          "data": {
            "text/plain": [
              "Text(0.5, 1.0, 'Confusion Matrix')"
            ]
          },
          "metadata": {},
          "execution_count": 23
        },
        {
          "output_type": "display_data",
          "data": {
            "text/plain": [
              "<Figure size 720x504 with 2 Axes>"
            ],
            "image/png": "[encoded data removed]"
          },
          "metadata": {}
        }
      ]
    }
  ]
}